{
 "cells": [
  {
   "cell_type": "markdown",
   "id": "4e0ceccd",
   "metadata": {},
   "source": [
    "## Importing the Datasets"
   ]
  },
  {
   "cell_type": "code",
   "execution_count": 21,
   "id": "225abb12",
   "metadata": {},
   "outputs": [],
   "source": [
    "import warnings\n",
    "warnings.simplefilter(action='ignore', category=FutureWarning)\n",
    "import pandas as pd\n",
    "import seaborn as sns\n",
    "\n",
    "from sklearn.ensemble import RandomForestClassifier\n",
    "from sklearn import svm"
   ]
  },
  {
   "cell_type": "code",
   "execution_count": 22,
   "id": "e441ef49",
   "metadata": {},
   "outputs": [
    {
     "name": "stderr",
     "output_type": "stream",
     "text": [
      "C:\\Users\\Home\\AppData\\Local\\Temp\\ipykernel_23436\\4247768560.py:3: DtypeWarning: Columns (6) have mixed types. Specify dtype option on import or set low_memory=False.\n",
      "  df = pd.read_csv(\"E:\\Large\\doi_10.5061_dryad.5hqbzkh6f__v6_2\\merged_data_labeled\\Labelled_dataset.csv\")\n"
     ]
    }
   ],
   "source": [
    "# Importing the raw data containing only the (BVP,TEMP and HR) for all nurses \n",
    "\n",
    "df = pd.read_csv(\"E:\\Large\\doi_10.5061_dryad.5hqbzkh6f__v6_2\\merged_data_labeled\\Labelled_dataset.csv\")\n"
   ]
  },
  {
   "cell_type": "code",
   "execution_count": 4,
   "id": "735d03f2",
   "metadata": {},
   "outputs": [
    {
     "data": {
      "text/plain": [
       "(11509051, 9)"
      ]
     },
     "execution_count": 4,
     "metadata": {},
     "output_type": "execute_result"
    }
   ],
   "source": [
    "df.shape"
   ]
  },
  {
   "cell_type": "code",
   "execution_count": 23,
   "id": "56b5e053",
   "metadata": {},
   "outputs": [
    {
     "data": {
      "text/html": [
       "<div>\n",
       "<style scoped>\n",
       "    .dataframe tbody tr th:only-of-type {\n",
       "        vertical-align: middle;\n",
       "    }\n",
       "\n",
       "    .dataframe tbody tr th {\n",
       "        vertical-align: top;\n",
       "    }\n",
       "\n",
       "    .dataframe thead th {\n",
       "        text-align: right;\n",
       "    }\n",
       "</style>\n",
       "<table border=\"1\" class=\"dataframe\">\n",
       "  <thead>\n",
       "    <tr style=\"text-align: right;\">\n",
       "      <th></th>\n",
       "      <th>X</th>\n",
       "      <th>Y</th>\n",
       "      <th>Z</th>\n",
       "      <th>EDA</th>\n",
       "      <th>HR</th>\n",
       "      <th>TEMP</th>\n",
       "      <th>id</th>\n",
       "      <th>datetime</th>\n",
       "      <th>label</th>\n",
       "    </tr>\n",
       "  </thead>\n",
       "  <tbody>\n",
       "    <tr>\n",
       "      <th>0</th>\n",
       "      <td>-13.0</td>\n",
       "      <td>-61.0</td>\n",
       "      <td>5.0</td>\n",
       "      <td>6.769995</td>\n",
       "      <td>99.43</td>\n",
       "      <td>31.17</td>\n",
       "      <td>15</td>\n",
       "      <td>2020-07-08 14:03:00.000000000</td>\n",
       "      <td>2.0</td>\n",
       "    </tr>\n",
       "    <tr>\n",
       "      <th>1</th>\n",
       "      <td>-20.0</td>\n",
       "      <td>-69.0</td>\n",
       "      <td>-3.0</td>\n",
       "      <td>6.769995</td>\n",
       "      <td>99.43</td>\n",
       "      <td>31.17</td>\n",
       "      <td>15</td>\n",
       "      <td>2020-07-08 14:03:00.031249920</td>\n",
       "      <td>2.0</td>\n",
       "    </tr>\n",
       "    <tr>\n",
       "      <th>2</th>\n",
       "      <td>-31.0</td>\n",
       "      <td>-78.0</td>\n",
       "      <td>-15.0</td>\n",
       "      <td>6.769995</td>\n",
       "      <td>99.43</td>\n",
       "      <td>31.17</td>\n",
       "      <td>15</td>\n",
       "      <td>2020-07-08 14:03:00.062500096</td>\n",
       "      <td>2.0</td>\n",
       "    </tr>\n",
       "    <tr>\n",
       "      <th>3</th>\n",
       "      <td>-47.0</td>\n",
       "      <td>-65.0</td>\n",
       "      <td>-38.0</td>\n",
       "      <td>6.769995</td>\n",
       "      <td>99.43</td>\n",
       "      <td>31.17</td>\n",
       "      <td>15</td>\n",
       "      <td>2020-07-08 14:03:00.093750016</td>\n",
       "      <td>2.0</td>\n",
       "    </tr>\n",
       "    <tr>\n",
       "      <th>4</th>\n",
       "      <td>-67.0</td>\n",
       "      <td>-57.0</td>\n",
       "      <td>-53.0</td>\n",
       "      <td>6.769995</td>\n",
       "      <td>99.43</td>\n",
       "      <td>31.17</td>\n",
       "      <td>15</td>\n",
       "      <td>2020-07-08 14:03:00.124999936</td>\n",
       "      <td>2.0</td>\n",
       "    </tr>\n",
       "  </tbody>\n",
       "</table>\n",
       "</div>"
      ],
      "text/plain": [
       "      X     Y     Z       EDA     HR   TEMP  id  \\\n",
       "0 -13.0 -61.0   5.0  6.769995  99.43  31.17  15   \n",
       "1 -20.0 -69.0  -3.0  6.769995  99.43  31.17  15   \n",
       "2 -31.0 -78.0 -15.0  6.769995  99.43  31.17  15   \n",
       "3 -47.0 -65.0 -38.0  6.769995  99.43  31.17  15   \n",
       "4 -67.0 -57.0 -53.0  6.769995  99.43  31.17  15   \n",
       "\n",
       "                        datetime  label  \n",
       "0  2020-07-08 14:03:00.000000000    2.0  \n",
       "1  2020-07-08 14:03:00.031249920    2.0  \n",
       "2  2020-07-08 14:03:00.062500096    2.0  \n",
       "3  2020-07-08 14:03:00.093750016    2.0  \n",
       "4  2020-07-08 14:03:00.124999936    2.0  "
      ]
     },
     "execution_count": 23,
     "metadata": {},
     "output_type": "execute_result"
    }
   ],
   "source": [
    "# This function is use to preview the dataset showing the top five data.\n",
    "df.head()"
   ]
  },
  {
   "cell_type": "code",
   "execution_count": 24,
   "id": "58f476f9",
   "metadata": {},
   "outputs": [
    {
     "data": {
      "text/html": [
       "<div>\n",
       "<style scoped>\n",
       "    .dataframe tbody tr th:only-of-type {\n",
       "        vertical-align: middle;\n",
       "    }\n",
       "\n",
       "    .dataframe tbody tr th {\n",
       "        vertical-align: top;\n",
       "    }\n",
       "\n",
       "    .dataframe thead th {\n",
       "        text-align: right;\n",
       "    }\n",
       "</style>\n",
       "<table border=\"1\" class=\"dataframe\">\n",
       "  <thead>\n",
       "    <tr style=\"text-align: right;\">\n",
       "      <th></th>\n",
       "      <th>X</th>\n",
       "      <th>Y</th>\n",
       "      <th>Z</th>\n",
       "      <th>EDA</th>\n",
       "      <th>HR</th>\n",
       "      <th>TEMP</th>\n",
       "      <th>id</th>\n",
       "      <th>datetime</th>\n",
       "      <th>label</th>\n",
       "    </tr>\n",
       "  </thead>\n",
       "  <tbody>\n",
       "    <tr>\n",
       "      <th>count</th>\n",
       "      <td>1.150905e+07</td>\n",
       "      <td>1.150905e+07</td>\n",
       "      <td>1.150905e+07</td>\n",
       "      <td>1.150905e+07</td>\n",
       "      <td>1.150905e+07</td>\n",
       "      <td>1.150905e+07</td>\n",
       "      <td>11509051</td>\n",
       "      <td>11509051</td>\n",
       "      <td>1.150905e+07</td>\n",
       "    </tr>\n",
       "    <tr>\n",
       "      <th>unique</th>\n",
       "      <td>NaN</td>\n",
       "      <td>NaN</td>\n",
       "      <td>NaN</td>\n",
       "      <td>NaN</td>\n",
       "      <td>NaN</td>\n",
       "      <td>NaN</td>\n",
       "      <td>18</td>\n",
       "      <td>10628304</td>\n",
       "      <td>NaN</td>\n",
       "    </tr>\n",
       "    <tr>\n",
       "      <th>top</th>\n",
       "      <td>NaN</td>\n",
       "      <td>NaN</td>\n",
       "      <td>NaN</td>\n",
       "      <td>NaN</td>\n",
       "      <td>NaN</td>\n",
       "      <td>NaN</td>\n",
       "      <td>E4</td>\n",
       "      <td>2020-06-23 18:53:15.062500096</td>\n",
       "      <td>NaN</td>\n",
       "    </tr>\n",
       "    <tr>\n",
       "      <th>freq</th>\n",
       "      <td>NaN</td>\n",
       "      <td>NaN</td>\n",
       "      <td>NaN</td>\n",
       "      <td>NaN</td>\n",
       "      <td>NaN</td>\n",
       "      <td>NaN</td>\n",
       "      <td>1487871</td>\n",
       "      <td>4</td>\n",
       "      <td>NaN</td>\n",
       "    </tr>\n",
       "    <tr>\n",
       "      <th>mean</th>\n",
       "      <td>-2.823775e+01</td>\n",
       "      <td>-9.091032e-01</td>\n",
       "      <td>2.382449e+01</td>\n",
       "      <td>3.502127e+00</td>\n",
       "      <td>8.576090e+01</td>\n",
       "      <td>3.223435e+01</td>\n",
       "      <td>NaN</td>\n",
       "      <td>NaN</td>\n",
       "      <td>1.554202e+00</td>\n",
       "    </tr>\n",
       "    <tr>\n",
       "      <th>std</th>\n",
       "      <td>3.142310e+01</td>\n",
       "      <td>3.343382e+01</td>\n",
       "      <td>2.985317e+01</td>\n",
       "      <td>5.656541e+00</td>\n",
       "      <td>1.419642e+01</td>\n",
       "      <td>2.260516e+00</td>\n",
       "      <td>NaN</td>\n",
       "      <td>NaN</td>\n",
       "      <td>7.891827e-01</td>\n",
       "    </tr>\n",
       "    <tr>\n",
       "      <th>min</th>\n",
       "      <td>-1.280000e+02</td>\n",
       "      <td>-1.280000e+02</td>\n",
       "      <td>-1.280000e+02</td>\n",
       "      <td>0.000000e+00</td>\n",
       "      <td>5.100000e+01</td>\n",
       "      <td>2.409000e+01</td>\n",
       "      <td>NaN</td>\n",
       "      <td>NaN</td>\n",
       "      <td>0.000000e+00</td>\n",
       "    </tr>\n",
       "    <tr>\n",
       "      <th>25%</th>\n",
       "      <td>-5.200000e+01</td>\n",
       "      <td>-1.900000e+01</td>\n",
       "      <td>4.000000e+00</td>\n",
       "      <td>2.242060e-01</td>\n",
       "      <td>7.672000e+01</td>\n",
       "      <td>3.019000e+01</td>\n",
       "      <td>NaN</td>\n",
       "      <td>NaN</td>\n",
       "      <td>1.000000e+00</td>\n",
       "    </tr>\n",
       "    <tr>\n",
       "      <th>50%</th>\n",
       "      <td>-3.300000e+01</td>\n",
       "      <td>1.000000e+00</td>\n",
       "      <td>2.500000e+01</td>\n",
       "      <td>1.157407e+00</td>\n",
       "      <td>8.390000e+01</td>\n",
       "      <td>3.257000e+01</td>\n",
       "      <td>NaN</td>\n",
       "      <td>NaN</td>\n",
       "      <td>2.000000e+00</td>\n",
       "    </tr>\n",
       "    <tr>\n",
       "      <th>75%</th>\n",
       "      <td>-1.400000e+01</td>\n",
       "      <td>1.700000e+01</td>\n",
       "      <td>4.900000e+01</td>\n",
       "      <td>4.077436e+00</td>\n",
       "      <td>9.310000e+01</td>\n",
       "      <td>3.425000e+01</td>\n",
       "      <td>NaN</td>\n",
       "      <td>NaN</td>\n",
       "      <td>2.000000e+00</td>\n",
       "    </tr>\n",
       "    <tr>\n",
       "      <th>max</th>\n",
       "      <td>1.270000e+02</td>\n",
       "      <td>1.270000e+02</td>\n",
       "      <td>1.270000e+02</td>\n",
       "      <td>5.976071e+01</td>\n",
       "      <td>1.802300e+02</td>\n",
       "      <td>3.659000e+01</td>\n",
       "      <td>NaN</td>\n",
       "      <td>NaN</td>\n",
       "      <td>2.000000e+00</td>\n",
       "    </tr>\n",
       "  </tbody>\n",
       "</table>\n",
       "</div>"
      ],
      "text/plain": [
       "                   X             Y             Z           EDA            HR  \\\n",
       "count   1.150905e+07  1.150905e+07  1.150905e+07  1.150905e+07  1.150905e+07   \n",
       "unique           NaN           NaN           NaN           NaN           NaN   \n",
       "top              NaN           NaN           NaN           NaN           NaN   \n",
       "freq             NaN           NaN           NaN           NaN           NaN   \n",
       "mean   -2.823775e+01 -9.091032e-01  2.382449e+01  3.502127e+00  8.576090e+01   \n",
       "std     3.142310e+01  3.343382e+01  2.985317e+01  5.656541e+00  1.419642e+01   \n",
       "min    -1.280000e+02 -1.280000e+02 -1.280000e+02  0.000000e+00  5.100000e+01   \n",
       "25%    -5.200000e+01 -1.900000e+01  4.000000e+00  2.242060e-01  7.672000e+01   \n",
       "50%    -3.300000e+01  1.000000e+00  2.500000e+01  1.157407e+00  8.390000e+01   \n",
       "75%    -1.400000e+01  1.700000e+01  4.900000e+01  4.077436e+00  9.310000e+01   \n",
       "max     1.270000e+02  1.270000e+02  1.270000e+02  5.976071e+01  1.802300e+02   \n",
       "\n",
       "                TEMP        id                       datetime         label  \n",
       "count   1.150905e+07  11509051                       11509051  1.150905e+07  \n",
       "unique           NaN        18                       10628304           NaN  \n",
       "top              NaN        E4  2020-06-23 18:53:15.062500096           NaN  \n",
       "freq             NaN   1487871                              4           NaN  \n",
       "mean    3.223435e+01       NaN                            NaN  1.554202e+00  \n",
       "std     2.260516e+00       NaN                            NaN  7.891827e-01  \n",
       "min     2.409000e+01       NaN                            NaN  0.000000e+00  \n",
       "25%     3.019000e+01       NaN                            NaN  1.000000e+00  \n",
       "50%     3.257000e+01       NaN                            NaN  2.000000e+00  \n",
       "75%     3.425000e+01       NaN                            NaN  2.000000e+00  \n",
       "max     3.659000e+01       NaN                            NaN  2.000000e+00  "
      ]
     },
     "execution_count": 24,
     "metadata": {},
     "output_type": "execute_result"
    }
   ],
   "source": [
    "# The describe function shows \n",
    "df.describe(include ='all')"
   ]
  },
  {
   "cell_type": "code",
   "execution_count": 25,
   "id": "3fef7c19",
   "metadata": {},
   "outputs": [
    {
     "name": "stdout",
     "output_type": "stream",
     "text": [
      "<class 'pandas.core.frame.DataFrame'>\n",
      "RangeIndex: 11509051 entries, 0 to 11509050\n",
      "Data columns (total 9 columns):\n",
      " #   Column    Dtype  \n",
      "---  ------    -----  \n",
      " 0   X         float64\n",
      " 1   Y         float64\n",
      " 2   Z         float64\n",
      " 3   EDA       float64\n",
      " 4   HR        float64\n",
      " 5   TEMP      float64\n",
      " 6   id        object \n",
      " 7   datetime  object \n",
      " 8   label     float64\n",
      "dtypes: float64(7), object(2)\n",
      "memory usage: 790.3+ MB\n"
     ]
    }
   ],
   "source": [
    "df.info()"
   ]
  },
  {
   "cell_type": "code",
   "execution_count": 26,
   "id": "bf415c9d",
   "metadata": {},
   "outputs": [
    {
     "data": {
      "text/plain": [
       "X           0\n",
       "Y           0\n",
       "Z           0\n",
       "EDA         0\n",
       "HR          0\n",
       "TEMP        0\n",
       "id          0\n",
       "datetime    0\n",
       "label       0\n",
       "dtype: int64"
      ]
     },
     "execution_count": 26,
     "metadata": {},
     "output_type": "execute_result"
    }
   ],
   "source": [
    "## Checking if any of the column contains \n",
    "df.isnull().sum()"
   ]
  },
  {
   "cell_type": "code",
   "execution_count": 27,
   "id": "c4b7f158",
   "metadata": {},
   "outputs": [
    {
     "data": {
      "text/plain": [
       "Index(['X', 'Y', 'Z', 'EDA', 'HR', 'TEMP', 'id', 'datetime', 'label'], dtype='object')"
      ]
     },
     "execution_count": 27,
     "metadata": {},
     "output_type": "execute_result"
    }
   ],
   "source": [
    "df.columns"
   ]
  },
  {
   "cell_type": "code",
   "execution_count": 28,
   "id": "e67dbfca",
   "metadata": {},
   "outputs": [],
   "source": [
    "df.drop(['X' ,'Y' ,'Z'] , axis =1 ,inplace = True)"
   ]
  },
  {
   "cell_type": "code",
   "execution_count": 7,
   "id": "54a52cba",
   "metadata": {},
   "outputs": [],
   "source": [
    "# This code is use to categorize the label column and create a new column called 'Stress_Level'. The stress level will\n",
    "# clearly show category of each stress the nurses faced during a period of time.\n",
    "\n",
    "df['Stress_level'] = df['label'].map(lambda x: \"High_stress\" if x == 2 else \"Medium_stress\" if x == 1 else \"No_stress\")"
   ]
  },
  {
   "cell_type": "code",
   "execution_count": 8,
   "id": "e2cdda2a",
   "metadata": {},
   "outputs": [
    {
     "data": {
      "text/html": [
       "<div>\n",
       "<style scoped>\n",
       "    .dataframe tbody tr th:only-of-type {\n",
       "        vertical-align: middle;\n",
       "    }\n",
       "\n",
       "    .dataframe tbody tr th {\n",
       "        vertical-align: top;\n",
       "    }\n",
       "\n",
       "    .dataframe thead th {\n",
       "        text-align: right;\n",
       "    }\n",
       "</style>\n",
       "<table border=\"1\" class=\"dataframe\">\n",
       "  <thead>\n",
       "    <tr style=\"text-align: right;\">\n",
       "      <th></th>\n",
       "      <th>X</th>\n",
       "      <th>Y</th>\n",
       "      <th>Z</th>\n",
       "      <th>EDA</th>\n",
       "      <th>HR</th>\n",
       "      <th>TEMP</th>\n",
       "      <th>id</th>\n",
       "      <th>datetime</th>\n",
       "      <th>label</th>\n",
       "      <th>Stress_level</th>\n",
       "    </tr>\n",
       "  </thead>\n",
       "  <tbody>\n",
       "    <tr>\n",
       "      <th>0</th>\n",
       "      <td>-13.0</td>\n",
       "      <td>-61.0</td>\n",
       "      <td>5.0</td>\n",
       "      <td>6.769995</td>\n",
       "      <td>99.43</td>\n",
       "      <td>31.17</td>\n",
       "      <td>15</td>\n",
       "      <td>2020-07-08 14:03:00.000000000</td>\n",
       "      <td>2.0</td>\n",
       "      <td>High_stress</td>\n",
       "    </tr>\n",
       "    <tr>\n",
       "      <th>1</th>\n",
       "      <td>-20.0</td>\n",
       "      <td>-69.0</td>\n",
       "      <td>-3.0</td>\n",
       "      <td>6.769995</td>\n",
       "      <td>99.43</td>\n",
       "      <td>31.17</td>\n",
       "      <td>15</td>\n",
       "      <td>2020-07-08 14:03:00.031249920</td>\n",
       "      <td>2.0</td>\n",
       "      <td>High_stress</td>\n",
       "    </tr>\n",
       "    <tr>\n",
       "      <th>2</th>\n",
       "      <td>-31.0</td>\n",
       "      <td>-78.0</td>\n",
       "      <td>-15.0</td>\n",
       "      <td>6.769995</td>\n",
       "      <td>99.43</td>\n",
       "      <td>31.17</td>\n",
       "      <td>15</td>\n",
       "      <td>2020-07-08 14:03:00.062500096</td>\n",
       "      <td>2.0</td>\n",
       "      <td>High_stress</td>\n",
       "    </tr>\n",
       "    <tr>\n",
       "      <th>3</th>\n",
       "      <td>-47.0</td>\n",
       "      <td>-65.0</td>\n",
       "      <td>-38.0</td>\n",
       "      <td>6.769995</td>\n",
       "      <td>99.43</td>\n",
       "      <td>31.17</td>\n",
       "      <td>15</td>\n",
       "      <td>2020-07-08 14:03:00.093750016</td>\n",
       "      <td>2.0</td>\n",
       "      <td>High_stress</td>\n",
       "    </tr>\n",
       "    <tr>\n",
       "      <th>4</th>\n",
       "      <td>-67.0</td>\n",
       "      <td>-57.0</td>\n",
       "      <td>-53.0</td>\n",
       "      <td>6.769995</td>\n",
       "      <td>99.43</td>\n",
       "      <td>31.17</td>\n",
       "      <td>15</td>\n",
       "      <td>2020-07-08 14:03:00.124999936</td>\n",
       "      <td>2.0</td>\n",
       "      <td>High_stress</td>\n",
       "    </tr>\n",
       "  </tbody>\n",
       "</table>\n",
       "</div>"
      ],
      "text/plain": [
       "      X     Y     Z       EDA     HR   TEMP  id  \\\n",
       "0 -13.0 -61.0   5.0  6.769995  99.43  31.17  15   \n",
       "1 -20.0 -69.0  -3.0  6.769995  99.43  31.17  15   \n",
       "2 -31.0 -78.0 -15.0  6.769995  99.43  31.17  15   \n",
       "3 -47.0 -65.0 -38.0  6.769995  99.43  31.17  15   \n",
       "4 -67.0 -57.0 -53.0  6.769995  99.43  31.17  15   \n",
       "\n",
       "                        datetime  label Stress_level  \n",
       "0  2020-07-08 14:03:00.000000000    2.0  High_stress  \n",
       "1  2020-07-08 14:03:00.031249920    2.0  High_stress  \n",
       "2  2020-07-08 14:03:00.062500096    2.0  High_stress  \n",
       "3  2020-07-08 14:03:00.093750016    2.0  High_stress  \n",
       "4  2020-07-08 14:03:00.124999936    2.0  High_stress  "
      ]
     },
     "execution_count": 8,
     "metadata": {},
     "output_type": "execute_result"
    }
   ],
   "source": [
    "df.head()"
   ]
  },
  {
   "cell_type": "code",
   "execution_count": 9,
   "id": "49eeed9b",
   "metadata": {},
   "outputs": [
    {
     "name": "stdout",
     "output_type": "stream",
     "text": [
      "Figure 1\n"
     ]
    },
    {
     "data": {
      "image/png": "[encoded data removed]",
      "text/plain": [
       "<Figure size 432x288 with 1 Axes>"
      ]
     },
     "metadata": {
      "needs_background": "light"
     },
     "output_type": "display_data"
    }
   ],
   "source": [
    "sns.countplot(df['Stress_level'])\n",
    "print('Figure 1')"
   ]
  },
  {
   "cell_type": "markdown",
   "id": "57478ab2",
   "metadata": {},
   "source": [
    "* The above countplot was able to count all nurses activity tagging each to the stress level encountered. From the result above, it shows the nurses encounter more stress. The high stress is ranked higher, compare to no stress and medium stress respectively."
   ]
  },
  {
   "cell_type": "code",
   "execution_count": 10,
   "id": "dd3d1c6c",
   "metadata": {},
   "outputs": [],
   "source": [
    "#Converting the id column to string to ensure all id corresponds\n",
    "\n",
    "df = df.astype({'id':'string'})"
   ]
  },
  {
   "cell_type": "code",
   "execution_count": 11,
   "id": "73338919",
   "metadata": {},
   "outputs": [
    {
     "name": "stdout",
     "output_type": "stream",
     "text": [
      "E4    1487871\n",
      "7A    1377342\n",
      "83    1372819\n",
      "DF     908168\n",
      "5C     865930\n",
      "6B     825549\n",
      "CE     814087\n",
      "BG     608655\n",
      "6D     591363\n",
      "94     586096\n",
      "EG     549124\n",
      "F5     535706\n",
      "8B     423763\n",
      "15     309131\n",
      "7E     253447\n",
      "Name: id, dtype: Int64\n",
      "Figure 2\n"
     ]
    },
    {
     "data": {
      "image/png": "[encoded data removed]",
      "text/plain": [
       "<Figure size 432x288 with 1 Axes>"
      ]
     },
     "metadata": {
      "needs_background": "light"
     },
     "output_type": "display_data"
    }
   ],
   "source": [
    "print(df['id'].value_counts())\n",
    "sns.countplot(df['id'])\n",
    "print(\"Figure 2\")"
   ]
  },
  {
   "cell_type": "markdown",
   "id": "91535e9f",
   "metadata": {},
   "source": [
    "* The above graph explores all nurses id and there respective contribution to the database, from the result above, nurse id EA, 74 and 83 contributed more to the dataset and would have more impact in the result of the analysis. This shows that the three nurses had more work session that others and have the EA wristband longer to collect more signal information. Unlike the nurse id 7E, 15 and 8B which have the least contribution to the entire dataset."
   ]
  },
  {
   "cell_type": "code",
   "execution_count": 12,
   "id": "f4cf3518",
   "metadata": {},
   "outputs": [
    {
     "name": "stdout",
     "output_type": "stream",
     "text": [
      "Figure 3\n"
     ]
    },
    {
     "data": {
      "image/png": "[encoded data removed]",
      "text/plain": [
       "<Figure size 1080x504 with 1 Axes>"
      ]
     },
     "metadata": {
      "needs_background": "light"
     },
     "output_type": "display_data"
    }
   ],
   "source": [
    "# Plotting the id of the nurses against their stress level.\n",
    "\n",
    "df_show = df.groupby(['id', 'Stress_level'])['id'].count().unstack('Stress_level').fillna(0)\n",
    "df_show[['High_stress','Medium_stress','No_stress']].plot(kind='bar', stacked=True, figsize=(15, 7))\n",
    "print('Figure 3')"
   ]
  },
  {
   "cell_type": "markdown",
   "id": "94eca518",
   "metadata": {},
   "source": [
    "* The above stacked chart shows each nurses in relation to their stress level, the result supports Figure 2. Which depict that all nurses experiences stress during their work session. 83, E4 and 7A experience more stress."
   ]
  },
  {
   "cell_type": "code",
   "execution_count": 13,
   "id": "d484f990",
   "metadata": {},
   "outputs": [
    {
     "data": {
      "text/plain": [
       "<AxesSubplot:xlabel='TEMP', ylabel='Density'>"
      ]
     },
     "execution_count": 13,
     "metadata": {},
     "output_type": "execute_result"
    },
    {
     "data": {
      "image/png": "[encoded data removed]",
      "text/plain": [
       "<Figure size 432x288 with 1 Axes>"
      ]
     },
     "metadata": {
      "needs_background": "light"
     },
     "output_type": "display_data"
    }
   ],
   "source": [
    "sns.distplot(df['TEMP'] ,color ='m')"
   ]
  },
  {
   "cell_type": "code",
   "execution_count": 14,
   "id": "a6989e6b",
   "metadata": {},
   "outputs": [
    {
     "name": "stdout",
     "output_type": "stream",
     "text": [
      "Minimum\n",
      "24.09\n",
      "Maximum\n",
      "36.59\n"
     ]
    }
   ],
   "source": [
    "print('Minimum')\n",
    "minn = df['TEMP'].min()\n",
    "print(minn)\n",
    "print('Maximum')\n",
    "maxx = df['TEMP'].max()\n",
    "print(maxx)"
   ]
  },
  {
   "cell_type": "code",
   "execution_count": 15,
   "id": "08b76578",
   "metadata": {},
   "outputs": [
    {
     "data": {
      "text/plain": [
       "<AxesSubplot:xlabel='HR', ylabel='Density'>"
      ]
     },
     "execution_count": 15,
     "metadata": {},
     "output_type": "execute_result"
    },
    {
     "data": {
      "image/png": "[encoded data removed]",
      "text/plain": [
       "<Figure size 432x288 with 1 Axes>"
      ]
     },
     "metadata": {
      "needs_background": "light"
     },
     "output_type": "display_data"
    }
   ],
   "source": [
    "sns.distplot(df['HR'] ,color ='b')"
   ]
  },
  {
   "cell_type": "code",
   "execution_count": 16,
   "id": "d608a53e",
   "metadata": {},
   "outputs": [
    {
     "name": "stdout",
     "output_type": "stream",
     "text": [
      "Minimum\n",
      "51.0\n",
      "Maximum\n",
      "180.23\n"
     ]
    }
   ],
   "source": [
    "print('Minimum')\n",
    "minn = df['HR'].min()\n",
    "print(minn)\n",
    "print('Maximum')\n",
    "maxx = df['HR'].max()\n",
    "print(maxx)"
   ]
  },
  {
   "cell_type": "code",
   "execution_count": 17,
   "id": "48b54ef2",
   "metadata": {},
   "outputs": [
    {
     "data": {
      "text/plain": [
       "<AxesSubplot:xlabel='EDA', ylabel='Density'>"
      ]
     },
     "execution_count": 17,
     "metadata": {},
     "output_type": "execute_result"
    },
    {
     "data": {
      "image/png": "[encoded data removed]",
      "text/plain": [
       "<Figure size 432x288 with 1 Axes>"
      ]
     },
     "metadata": {
      "needs_background": "light"
     },
     "output_type": "display_data"
    }
   ],
   "source": [
    "sns.distplot(df['EDA'] ,color ='r')"
   ]
  },
  {
   "cell_type": "code",
   "execution_count": 18,
   "id": "4e7b7265",
   "metadata": {},
   "outputs": [
    {
     "name": "stdout",
     "output_type": "stream",
     "text": [
      "Minimum\n",
      "0.0\n",
      "Maximum\n",
      "59.760712\n"
     ]
    }
   ],
   "source": [
    "print('Minimum')\n",
    "minn = df['EDA'].min()\n",
    "print(minn)\n",
    "print('Maximum')\n",
    "maxx = df['EDA'].max()\n",
    "print(maxx)"
   ]
  },
  {
   "cell_type": "code",
   "execution_count": 19,
   "id": "e34c0bb1",
   "metadata": {},
   "outputs": [],
   "source": [
    "# Declaring a new variable for the three nurses with higher contribution.\n",
    "\n",
    "dfEA = df[df['id'] == 'EA' ]\n",
    "df7A = df[df['id'] == '7A' ]\n",
    "df83 = df[df['id'] == '83' ]"
   ]
  },
  {
   "cell_type": "markdown",
   "id": "64234996",
   "metadata": {},
   "source": [
    "## Conclusion and Findings"
   ]
  },
  {
   "cell_type": "raw",
   "id": "8fe159b9",
   "metadata": {},
   "source": [
    "This experiment focuses on exploring a raw data collected from 15 nurses with a wearable watch to capture several physiological data that can be used to detect stress. The physiologocal signal collected are the Accelerometer, Heart Rate, Skin Temperature and Electrotermal Activity. Each nurses signal were merged together to form a single csv file. This dataset was cleaned by using python forward and backward fill, to replace all null values. The clean dataset was further explore to detect more insight. From the exploration conducted, it shows that every nurses experience stress more in any of their session and three from the 15 nurses experience stress more.\n",
    "\n",
    "For the Skin Temperature signal, more nurses maintain moderate temperature ranging between 33.0 Degree Celcius to 36.9 Degree celcius. Which concludes that irrespective of the severity of the stress, it might not affect the temperature of the candidate. Which make it less effecient for stress detection.\n",
    "\n",
    "For the Heart Rate, this is measured in beat per minutes, from the findings, the Heart Rate greatly affect the stress condition of the nurses, the higher the heart beat, the more chances it reflects the stress level."
   ]
  },
  {
   "cell_type": "markdown",
   "id": "f3fd8341",
   "metadata": {},
   "source": [
    "## Reference"
   ]
  },
  {
   "cell_type": "markdown",
   "id": "7f3663ec",
   "metadata": {},
   "source": [
    "British Heart Foundation (2022), Your heart Rate (Online) Available at: https://www.bhf.org.uk/informationsupport/how-a-healthy-heart-works/your-heart-rate [Accessed 19 Feb, 2023]\n",
    "\n",
    "Derek J. (2018) The Blood Volume Pulse - Biofeedback Basics (Online) Available at: https://www.biofeedback-tech.com/articles/2016/3/24/the-blood-volume-pulse-biofeedback-basics [Accessed 19 Feb, 2023]\n",
    "\n",
    "Hosseini, Seyedmajid et al. (2021), A multi-modal sensor dataset for continuous stress detection of nurses in a hospital, Dryad, Dataset, https://doi.org/10.5061/dryad.5hqbzkh6f\n",
    "\n",
    "Oka T. (2015). Psychogenic fever: how psychological stress affects body temperature in the clinical population. Temperature (Austin, Tex.), 2(3), 368–378. https://doi.org/10.1080/23328940.2015.1056907\n",
    "\n",
    "Jim F, (2021) The change in body temperature anxiety symtopms (Online) Available at:  https://www.anxietycentre.com/anxiety-disorders/symptoms/change-in-body-temperature/\n",
    "        \n",
    "Line plot (2023) https://www.python-graph-gallery.com/line-chart/"
   ]
  },
  {
   "cell_type": "code",
   "execution_count": null,
   "id": "2861c954",
   "metadata": {},
   "outputs": [],
   "source": []
  }
 ],
 "metadata": {
  "kernelspec": {
   "display_name": "Python 3 (ipykernel)",
   "language": "python",
   "name": "python3"
  },
  "language_info": {
   "codemirror_mode": {
    "name": "ipython",
    "version": 3
   },
   "file_extension": ".py",
   "mimetype": "text/x-python",
   "name": "python",
   "nbconvert_exporter": "python",
   "pygments_lexer": "ipython3",
   "version": "3.9.12"
  }
 },
 "nbformat": 4,
 "nbformat_minor": 5
}
